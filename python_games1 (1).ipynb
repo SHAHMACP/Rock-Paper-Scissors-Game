{
 "cells": [
  {
   "cell_type": "markdown",
   "metadata": {},
   "source": [
    "#  Rock Paper Scissors Game"
   ]
  },
  {
   "cell_type": "code",
   "execution_count": null,
   "metadata": {
    "colab": {
     "base_uri": "https://localhost:8080/"
    },
    "executionInfo": {
     "elapsed": 13170,
     "status": "ok",
     "timestamp": 1741674814540,
     "user": {
      "displayName": "Nandhana Krishna",
      "userId": "18169831023004563529"
     },
     "user_tz": -330
    },
    "id": "6rx8F64l53aD",
    "outputId": "e95da687-fba8-473c-f837-5680db13d6e2"
   },
   "outputs": [
    {
     "name": "stdout",
     "output_type": "stream",
     "text": [
      "enter your choicerock\n",
      "computer choice is paper\n",
      "you win\n",
      "you want quit(yes),else (no)yes\n"
     ]
    }
   ],
   "source": [
    "import random\n",
    "while True:\n",
    "  user=input(\"enter your choice\")\n",
    "  possible=['rock','paper','scissor']\n",
    "  computer=random.choice(possible)\n",
    "  print('computer choice is',computer)\n",
    "  if user==computer:\n",
    "    print('its tie')\n",
    "  elif user=='rock':\n",
    "    if  computer=='scissor':\n",
    "      print('you lose')\n",
    "    else:\n",
    "      print('you win')\n",
    "  elif user=='paper':\n",
    "    if computer=='scissor':\n",
    "      print('you lose')\n",
    "    else:\n",
    "     print('you win')\n",
    "  elif user=='rock':\n",
    "    if computer=='paper':\n",
    "      print('you lose')\n",
    "    else:\n",
    "     print('you win')\n",
    "  user=input('you want quit(yes),else (no)').lower()\n",
    "  if user=='yes':\n",
    "       break"
   ]
  },
  {
   "cell_type": "markdown",
   "metadata": {},
   "source": [
    "# Roll Dice"
   ]
  },
  {
   "cell_type": "code",
   "execution_count": null,
   "metadata": {
    "colab": {
     "base_uri": "https://localhost:8080/"
    },
    "executionInfo": {
     "elapsed": 31291,
     "status": "ok",
     "timestamp": 1741685152953,
     "user": {
      "displayName": "Nandhana Krishna",
      "userId": "18169831023004563529"
     },
     "user_tz": -330
    },
    "id": "fXsXrXyw6QOJ",
    "outputId": "7a7c3c98-fe1b-4d5f-ffaa-8995d0d581a7"
   },
   "outputs": [
    {
     "name": "stdout",
     "output_type": "stream",
     "text": [
      "Welcome to the Dice Rolling Game\n",
      "Press Enter to roll the dice2\n",
      "You rolled: 3\n",
      "Computer rolled: 1\n",
      "You win\n",
      "Do you want to roll again? (yes/no): no\n",
      "Press Enter to roll the dice2\n",
      "You rolled: 1\n",
      "Computer rolled: 1\n",
      "It's a tie\n",
      "Do you want to roll again? (yes/no): yes\n",
      "Thanks for playing!\n"
     ]
    }
   ],
   "source": [
    "import random\n",
    "\n",
    "def roll_dice():\n",
    "    return random.randint(1, 6)\n",
    "\n",
    "def dice_game():\n",
    "    print(\"Welcome to the Dice Rolling Game\")\n",
    "\n",
    "    while True:\n",
    "        # Player's turn to roll the dice\n",
    "        input(\"Press Enter to roll the dice\")\n",
    "        player_roll = roll_dice()\n",
    "        print(f\"You rolled: {player_roll}\")\n",
    "\n",
    "        # Computer's turn to roll the dice\n",
    "        computer_roll = roll_dice()\n",
    "        print(f\"Computer rolled: {computer_roll}\")\n",
    "\n",
    "        # Compare results\n",
    "        if player_roll > computer_roll:\n",
    "            print(\"You win\")\n",
    "        elif player_roll < computer_roll:\n",
    "            print(\"Computer wins\")\n",
    "        else:\n",
    "            print(\"It's a tie\")\n",
    "\n",
    "        # Ask the user if they want to play again\n",
    "        play_again = input(\"Do you want to roll again? (yes/no): \").lower()\n",
    "        if play_again == 'yes':\n",
    "            print(\"Thanks for playing!\")\n",
    "            break\n",
    "\n",
    "# Run the game\n",
    "dice_game()\n"
   ]
  },
  {
   "cell_type": "markdown",
   "metadata": {},
   "source": [
    "# Number Guess"
   ]
  },
  {
   "cell_type": "code",
   "execution_count": null,
   "metadata": {
    "colab": {
     "base_uri": "https://localhost:8080/"
    },
    "executionInfo": {
     "elapsed": 12895,
     "status": "ok",
     "timestamp": 1741846580048,
     "user": {
      "displayName": "Nandhana Krishna",
      "userId": "18169831023004563529"
     },
     "user_tz": -330
    },
    "id": "kN8-TKkW6QK5",
    "outputId": "84393dbe-6a7a-4348-be8c-702bb9c38030"
   },
   "outputs": [
    {
     "name": "stdout",
     "output_type": "stream",
     "text": [
      "Guess a number between 1 and 10: 2\n",
      "Sorry, the correct number was 7.\n"
     ]
    }
   ],
   "source": [
    "import random\n",
    "\n",
    "# Generate a random number between 1 and 10\n",
    "number_to_guess = random.randint(1, 10)\n",
    "\n",
    "# Ask the player to guess\n",
    "guess = int(input(\"Guess a number between 1 and 10: \"))\n",
    "\n",
    "# Check if the guess is correct\n",
    "if guess == number_to_guess:\n",
    "    print(\"Congratulations! You guessed it right.\")\n",
    "else:\n",
    "    print(f\"Sorry, the correct number was {number_to_guess}.\")\n"
   ]
  },
  {
   "cell_type": "code",
   "execution_count": null,
   "metadata": {
    "id": "AdU6Ooxo6QEo"
   },
   "outputs": [],
   "source": []
  },
  {
   "cell_type": "code",
   "execution_count": null,
   "metadata": {
    "id": "NC1sJcNS6QBZ"
   },
   "outputs": [],
   "source": []
  },
  {
   "cell_type": "code",
   "execution_count": null,
   "metadata": {
    "id": "C2NurgadZZ9D"
   },
   "outputs": [],
   "source": []
  }
 ],
 "metadata": {
  "colab": {
   "provenance": []
  },
  "kernelspec": {
   "display_name": "Python 3",
   "name": "python3"
  },
  "language_info": {
   "name": "python"
  }
 },
 "nbformat": 4,
 "nbformat_minor": 0
}
